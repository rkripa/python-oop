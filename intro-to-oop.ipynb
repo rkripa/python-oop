{
 "cells": [
  {
   "cell_type": "markdown",
   "metadata": {
    "collapsed": true
   },
   "source": [
    "# Object Oriented Programming using Python 3.x"
   ]
  },
  {
   "cell_type": "markdown",
   "metadata": {},
   "source": [
    "## Scope\n",
    "This is a short tutorial for someone without any knowledge of Classes, Objects and Object Oriented programming.  The reader is expected to know basic python programming."
   ]
  },
  {
   "cell_type": "markdown",
   "metadata": {},
   "source": [
    "## Introduction\n",
    "\n",
    "When you see the world around you, you see objects everywhere.  Lots of them.  If I ask you to provide me with more details about the object you see.  You can easily tell what it does,  list their attributes and behavior.  Lets look into some concrete examples of real world objects:\n",
    "-  Cars, Trucks, Buses, Bikes, Aircrafts, Boats, Cycles, Trains\n",
    "-  People, Women, Men, Children, Students, Employees\n",
    "-  Phones, Computers, Pens, Pencils, Notebooks\n",
    "-  Doors, Windows, Rooms, Buildings, Elevators, Escalators\n",
    "-  Fruits, Vegetables\n",
    "-  Words, Sentences, Paragraphs, Chapters, Books\n",
    "\n",
    "What are the attributes of an object?\n",
    "The things using which we describe them, their characteristics.\n",
    "For e.g. the car's color, model, brand, year, type, engine, transimssion etc.\n",
    "\n",
    "What are the behaviors of an object?\n",
    "Things that we can do to them or how they behave or interact with the surroundings.\n",
    "Such as start, stop, or cruize a car.  Query car details.\n",
    "\n",
    "In computer programming we use ** data types ** which are containers to hold data of specific type.  The data types are for e.g. integer, floats or strings.  Integers and floats are useful for computing mathematical operations.\n",
    "\n",
    "What if we want to emulate real world objects into software.  What data types would we use?  Thats where classes comes in handy to make programmers lives easy.\n",
    "\n",
    "Lets step back to see how the world was before Object Oriented Programming (OOP) and peer into the world of procedural programming.  Functions are the basic building blocks in procedural programming."
   ]
  },
  {
   "cell_type": "markdown",
   "metadata": {},
   "source": [
    "## Functions\n",
    "\n",
    "Programmers decompose a problem from the top down breaking them into functions.  Think of functions like math funtions y = f(x).  A function takes in 0 or more inputs, performs some computation and returns 0 or more values as outputs.\n",
    "\n",
    "Functions call one another and they share common data. It is hard to track which function modifies the data.  Every function has equal access to the data, even when it is not necessary.  This leads to bugs and hard to maintain software.  Here is how OOP comes to our rescue."
   ]
  },
  {
   "cell_type": "markdown",
   "metadata": {},
   "source": [
    "## Classes\n",
    "\n",
    "Classes are the building blocks in OOP.  They are identified by looking at the problem from a bottom up view within the problem domain.\n",
    "\n",
    "At the most basic level\n",
    "```\n",
    "Data + Functions = Class\n",
    "```\n",
    "The idea is to keep the functions and the data they operate on close together.  And functions within the Class will operate on their data.\n",
    "\n",
    "The **data** represents the **attributes** of objects. An object's state is the state of its data.\n",
    "\n",
    "The **functions** represent the object's **behavior**.  Ideally the functions are the means through which the state of the object is read and modified.\n",
    "\n",
    "Classes are usually **nouns** you find in the problem domain.\n",
    "\n",
    "Functions are the **verbs** performed by the classes.\n"
   ]
  },
  {
   "cell_type": "markdown",
   "metadata": {},
   "source": [
    "## Objects\n",
    "\n",
    "Generalization and categorization of objects lead to a class definition.\n",
    "Classes are templates or models. They characterize a category of objects.  Think of a class as a cookie cutter using which we create cookies which are the objects.  Objects are created from the class through a process called ** instantiation ** which is actually quite easy."
   ]
  },
  {
   "cell_type": "markdown",
   "metadata": {},
   "source": [
    "## Object Oriented Programming\n",
    "\n",
    "We reviewed functions, data types, classes and objects.  OOP is all about identifying objects in your problem domain.  A *problem statement* is a good place to start.  More importantly discussing with the domain experts helps to understand and identify more objects.  Then we find the object's attributes (data),  relationships between objects, their behavior and their numbers and lifetimes.  With this information, we are ready to generalize the objects into classes and define class level relationships and hierarchy\n",
    "\n",
    "### Two Key Relationships among Classes\n",
    "- Whole Part or Contains\n",
    "  -  A home **contains** rooms, doors, windows, furnitures etc\n",
    "- Is-A or Kind of\n",
    "  - Cars, Buses, Trucks, Bikes, Aircrats **is-a** kind of a vehicle"
   ]
  },
  {
   "cell_type": "markdown",
   "metadata": {},
   "source": [
    "## Classes and Relationships\n",
    "-  Identifying the classes with the correct level of abstractions and selecting the right relationships is-a vs contains is very important.\n",
    "Making changes to the Base or Parent class mid stream in a project is very challenging which surely leads to missing milestones.\n",
    "-  Avoid making some classes too big or too small"
   ]
  },
  {
   "cell_type": "markdown",
   "metadata": {},
   "source": [
    "##  Unified Modeling Language (UML)\n",
    "In the past engineers started developing very large scale Object Oriented systems and found it to be hard to make changes with minimal disruption.  Hence a group of industry OOP practioners proposed a visual scheme and tool to model classes, objects, deployments and use-cases etc."
   ]
  },
  {
   "cell_type": "markdown",
   "metadata": {},
   "source": [
    "### Use Cases\n",
    "\n",
    "Use cases is a technique to capture key system requirements.  Identifies what is inside the system and actors who interact with the system.\n",
    "\n",
    "<img src=\"assets/use-cases.png\" width=\"500\" height=\"1000\"/>\n",
    "\n",
    "source: http://www.cs.ucf.edu/~turgut/COURSES/COP4331C_OOD_Fall12/UML-Examples.pdf"
   ]
  },
  {
   "cell_type": "markdown",
   "metadata": {},
   "source": [
    "### Class\n",
    "<img src=\"assets/class.png\" width=\"300\" height=\"600\" />\n",
    "\n",
    "source: http://ima.udg.edu/~sellares/EINF-ES2/uml2_diagrams.pdf"
   ]
  },
  {
   "cell_type": "markdown",
   "metadata": {},
   "source": [
    "### Aggregation and Composition\n",
    "\n",
    "Solid diamond represents composition, strong lifecycle dependency between the container and the contained.  Think about folder and files. When we delete a folder the files in it are gone. \n",
    "\n",
    "Hollow diamond represents aggregation, weaker relation. Think about library and students.  Students can exists independent of the library.\n",
    "\n",
    "<img src=\"assets/wholepart.png\" width=\"500\" height=\"200\" />\n",
    "\n",
    "source: http://ima.udg.edu/~sellares/EINF-ES2/uml2_diagrams.pdf"
   ]
  },
  {
   "cell_type": "markdown",
   "metadata": {},
   "source": [
    "### Quiz 1\n",
    "Activity to identify Objects, Classes and their Relationships in the following problem domains.\n",
    "\n",
    "#### Library\n",
    "#### Classroom\n",
    "#### Bank"
   ]
  },
  {
   "cell_type": "markdown",
   "metadata": {},
   "source": [
    "### Inheritance\n",
    "<img src=\"assets/inheritance.png\" width=\"500\" height=\"200\">\n",
    "\n",
    "source: http://ima.udg.edu/~sellares/EINF-ES2/uml2_diagrams.pdf"
   ]
  },
  {
   "cell_type": "markdown",
   "metadata": {},
   "source": [
    "## Simple Python Class"
   ]
  },
  {
   "cell_type": "code",
   "execution_count": 1,
   "metadata": {
    "collapsed": true
   },
   "outputs": [],
   "source": [
    "# class definition\n",
    "class DoNothingCls:\n",
    "    pass\n",
    "\n",
    "# Instantiating an object doNothingObj of type DoNothingCls\n",
    "doNothingObj = DoNothingCls()"
   ]
  },
  {
   "cell_type": "markdown",
   "metadata": {},
   "source": [
    "### Lets check the type of doNothingObj and DoNothingCls"
   ]
  },
  {
   "cell_type": "code",
   "execution_count": 2,
   "metadata": {},
   "outputs": [
    {
     "data": {
      "text/plain": [
       "__main__.DoNothingCls"
      ]
     },
     "execution_count": 2,
     "metadata": {},
     "output_type": "execute_result"
    }
   ],
   "source": [
    "type(doNothingObj)    # it is a DoNothingCls"
   ]
  },
  {
   "cell_type": "code",
   "execution_count": 3,
   "metadata": {},
   "outputs": [
    {
     "data": {
      "text/plain": [
       "type"
      ]
     },
     "execution_count": 3,
     "metadata": {},
     "output_type": "execute_result"
    }
   ],
   "source": [
    "type(DoNothingCls)    # it is a type"
   ]
  },
  {
   "cell_type": "markdown",
   "metadata": {},
   "source": [
    "### Checking if doNothingObj is really an instance of DoNothingCls"
   ]
  },
  {
   "cell_type": "code",
   "execution_count": 4,
   "metadata": {},
   "outputs": [
    {
     "data": {
      "text/plain": [
       "True"
      ]
     },
     "execution_count": 4,
     "metadata": {},
     "output_type": "execute_result"
    }
   ],
   "source": [
    "isinstance(doNothingObj, DoNothingCls)"
   ]
  },
  {
   "cell_type": "code",
   "execution_count": 5,
   "metadata": {},
   "outputs": [
    {
     "data": {
      "text/plain": [
       "False"
      ]
     },
     "execution_count": 5,
     "metadata": {},
     "output_type": "execute_result"
    }
   ],
   "source": [
    "isinstance(doNothingObj, int)  # int and doNothingObj are different types"
   ]
  },
  {
   "cell_type": "code",
   "execution_count": 6,
   "metadata": {},
   "outputs": [
    {
     "data": {
      "text/plain": [
       "True"
      ]
     },
     "execution_count": 6,
     "metadata": {},
     "output_type": "execute_result"
    }
   ],
   "source": [
    "isinstance(DoNothingCls, type) # both are of the same type"
   ]
  },
  {
   "cell_type": "markdown",
   "metadata": {},
   "source": [
    "### Documenting a Class"
   ]
  },
  {
   "cell_type": "code",
   "execution_count": 7,
   "metadata": {
    "collapsed": true
   },
   "outputs": [],
   "source": [
    "# class definition\n",
    "class DoNothingCls:\n",
    "    ''' This is a do nothing class which only has docstring '''"
   ]
  },
  {
   "cell_type": "code",
   "execution_count": 8,
   "metadata": {},
   "outputs": [
    {
     "data": {
      "text/plain": [
       "' This is a do nothing class which only has docstring '"
      ]
     },
     "execution_count": 8,
     "metadata": {},
     "output_type": "execute_result"
    }
   ],
   "source": [
    "DoNothingCls.__doc__"
   ]
  },
  {
   "cell_type": "markdown",
   "metadata": {},
   "source": [
    "### Objects are Unique\n",
    "\n",
    "Using id() to determine an object's id."
   ]
  },
  {
   "cell_type": "code",
   "execution_count": 9,
   "metadata": {},
   "outputs": [
    {
     "name": "stdout",
     "output_type": "stream",
     "text": [
      "Object Ids, d1: 140107741740952, d2: 140107741740896\n"
     ]
    }
   ],
   "source": [
    "d1Obj = DoNothingCls()\n",
    "d2Obj = DoNothingCls()\n",
    "print (\"Object Ids, d1: {}, d2: {}\".format(id(d1Obj), id(d2Obj)))"
   ]
  },
  {
   "cell_type": "markdown",
   "metadata": {},
   "source": [
    "## Classes have Attributes and Methods\n",
    "\n",
    "-  Brand is an attribute\n",
    "-  Attributes are referred as  \"self\" dot \"name of attribute\"\n",
    "-  \\__init\\__(), getBrand() are methods\n",
    "-  Methods use ** self ** as their first parameter \n",
    "-  \\__init\\__() initializes the attribute(s) \n",
    "   -  They are **not** constructors\n",
    "   -  Cant return any value"
   ]
  },
  {
   "cell_type": "code",
   "execution_count": 10,
   "metadata": {
    "collapsed": true
   },
   "outputs": [],
   "source": [
    "class VehicleCls:\n",
    "    ''' Vehicle class has brand as attribute, getBrand as method'''\n",
    "    def __init__(self, brand):\n",
    "        self.brand = brand\n",
    "    def getBrand(self):\n",
    "        return self.brand"
   ]
  },
  {
   "cell_type": "code",
   "execution_count": 11,
   "metadata": {},
   "outputs": [
    {
     "name": "stdout",
     "output_type": "stream",
     "text": [
      "Car brand:  Toyota Camry\n"
     ]
    }
   ],
   "source": [
    "toyotaCamry = VehicleCls('Toyota Camry')\n",
    "brand = toyotaCamry.getBrand()\n",
    "print(\"Car brand: \", brand)"
   ]
  },
  {
   "cell_type": "code",
   "execution_count": 12,
   "metadata": {},
   "outputs": [
    {
     "name": "stdout",
     "output_type": "stream",
     "text": [
      "Car brand:  Toyota Camry\n"
     ]
    }
   ],
   "source": [
    "print(\"Car brand: \",toyotaCamry.brand)"
   ]
  },
  {
   "cell_type": "markdown",
   "metadata": {},
   "source": [
    "## Quiz 2\n",
    "Can \\__init__(self) return None?\n",
    "\n",
    "``` python\n",
    "   class Foo:\n",
    "       def __init__(self):\n",
    "           return None\n",
    "           \n",
    "    Foo()\n",
    "```"
   ]
  },
  {
   "cell_type": "markdown",
   "metadata": {},
   "source": [
    "## Relationships between Classes\n",
    "### Whole Part or Contains\n",
    "-  Aggregation\n",
    "   -  Whole and Parts have independent lifetimes\n",
    "      - Company contains employees.  When \n",
    "-  Composition (shared lifetimes of whole and part)\n",
    "\n",
    "### Is A or Kind of\n",
    "-  Inheritance\n",
    "   - Parent, Child\n",
    "   - Base, Derived"
   ]
  },
  {
   "cell_type": "markdown",
   "metadata": {},
   "source": [
    "## Aggregation"
   ]
  },
  {
   "cell_type": "code",
   "execution_count": 13,
   "metadata": {},
   "outputs": [
    {
     "name": "stdout",
     "output_type": "stream",
     "text": [
      "Initializing Part Object\n",
      "Initializing Whole Object\n",
      "Whole Object and I contain a Part Object \n"
     ]
    }
   ],
   "source": [
    "# Aggregation Relation between WholeCls and PartCls\n",
    "\n",
    "class PartCls:\n",
    "    ''' Part Class '''\n",
    "    def __init__(self):\n",
    "        print (\"Initializing Part Object\")\n",
    "    def __repr__(self):\n",
    "        return \" Part Object \"\n",
    "\n",
    "class WholeCls:\n",
    "    '''Whole Class, it contains the Part Class as an attribute'''\n",
    "    def __init__(self, partCls):\n",
    "        self.part = partCls\n",
    "        print (\"Initializing Whole Object\")\n",
    "    def __repr__(self):\n",
    "        return \"Whole Object\" + \" and I contain a\" + self.part.__repr__()\n",
    "\n",
    "partObj = PartCls()\n",
    "wholeObj = WholeCls(partObj)\n",
    "print (wholeObj)"
   ]
  },
  {
   "cell_type": "markdown",
   "metadata": {},
   "source": [
    "#### What happens when the WholeObj is deleted?"
   ]
  },
  {
   "cell_type": "code",
   "execution_count": 14,
   "metadata": {},
   "outputs": [
    {
     "data": {
      "text/plain": [
       " Part Object "
      ]
     },
     "execution_count": 14,
     "metadata": {},
     "output_type": "execute_result"
    }
   ],
   "source": [
    "del wholeObj\n",
    "\n",
    "partObj    # partObj still exists even after wholeObj was deleted"
   ]
  },
  {
   "cell_type": "markdown",
   "metadata": {},
   "source": [
    "## Composition"
   ]
  },
  {
   "cell_type": "code",
   "execution_count": 15,
   "metadata": {},
   "outputs": [
    {
     "name": "stdout",
     "output_type": "stream",
     "text": [
      "Initializing Part Object\n",
      "Initializing Whole Object\n",
      "Whole Object and I contain a Part Object \n"
     ]
    }
   ],
   "source": [
    "# Composition Relation between WholeCls and PartCls\n",
    "\n",
    "class PartCls:\n",
    "    ''' Part Class '''\n",
    "    def __init__(self):\n",
    "        print (\"Initializing Part Object\")\n",
    "    def __repr__(self):\n",
    "        return \" Part Object \"\n",
    "    def __del__(self):\n",
    "        print ('Deleting Part Object')\n",
    "\n",
    "class WholeCls:\n",
    "    '''Whole Class, it contains the Part Class'''\n",
    "    def __init__(self):\n",
    "        self.part = PartCls()\n",
    "        print (\"Initializing Whole Object\")\n",
    "    def __repr__(self):\n",
    "        return \"Whole Object\" + \" and I contain a\" + self.part.__repr__()\n",
    "\n",
    "wholeObj = WholeCls()\n",
    "print (wholeObj)"
   ]
  },
  {
   "cell_type": "markdown",
   "metadata": {},
   "source": [
    "#### What happens when the WholeObj is deleted?"
   ]
  },
  {
   "cell_type": "code",
   "execution_count": 16,
   "metadata": {},
   "outputs": [
    {
     "name": "stdout",
     "output_type": "stream",
     "text": [
      "Deleting Part Object\n"
     ]
    }
   ],
   "source": [
    "del wholeObj"
   ]
  },
  {
   "cell_type": "markdown",
   "metadata": {},
   "source": [
    "## Inheritance"
   ]
  },
  {
   "cell_type": "code",
   "execution_count": 17,
   "metadata": {},
   "outputs": [
    {
     "name": "stdout",
     "output_type": "stream",
     "text": [
      "Initializing Parent Object\n",
      "Initializing Child Object\n",
      "Child Object and I inherit a Parent Object \n"
     ]
    }
   ],
   "source": [
    "# Inheritance Relation between ParentCls and ChildCls\n",
    "\n",
    "class ParentCls:\n",
    "    ''' Parent Class '''\n",
    "    def __init__(self):\n",
    "        print (\"Initializing Parent Object\")\n",
    "    def __repr__(self):\n",
    "        return \" Parent Object \"\n",
    "\n",
    "class ChildCls (ParentCls):\n",
    "    '''ChildCls Class, it inherits from the Parent Class'''\n",
    "    def __init__(self):\n",
    "        #super().__init__()\n",
    "        ParentCls.__init__(self)   #Calling the parents __init__\n",
    "        print (\"Initializing Child Object\")\n",
    "    def __repr__(self):\n",
    "        return \"Child Object \" + \"and I inherit a\" + super().__repr__()\n",
    "\n",
    "childObj = ChildCls()\n",
    "print (childObj)\n"
   ]
  },
  {
   "cell_type": "markdown",
   "metadata": {},
   "source": [
    "## Overriding methods in Parent Class"
   ]
  },
  {
   "cell_type": "code",
   "execution_count": 18,
   "metadata": {},
   "outputs": [
    {
     "name": "stdout",
     "output_type": "stream",
     "text": [
      "WhoAmIOne: I am Parent Object\n",
      "WhoAmITwo (overridden): I am Child Object\n"
     ]
    }
   ],
   "source": [
    "# Overriding Print method in ChildCls\n",
    "\n",
    "class ParentCls:\n",
    "    ''' Parent Class '''\n",
    "    def WhoAmIOne(self):\n",
    "        print (\"WhoAmIOne: I am Parent Object\")\n",
    "    def WhoAmITwo(self):\n",
    "        print (\"WhoAmITwo: I am Parent Object\")\n",
    "\n",
    "class ChildCls (ParentCls):\n",
    "    '''ChildCls Class, it inherits from the Parent Class'''\n",
    "    # WhoAmITwo() is overridden in the childcls\n",
    "    def WhoAmITwo(self):\n",
    "       print (\"WhoAmITwo (overridden): I am Child Object\")\n",
    "\n",
    "childObj = ChildCls()\n",
    "childObj.WhoAmIOne()\n",
    "childObj.WhoAmITwo()\n"
   ]
  },
  {
   "cell_type": "markdown",
   "metadata": {},
   "source": [
    "## Multiple Inheritance\n",
    "-  We looked at the base class and the derived class.  The derived class **is a kind of** of the base class.  There could be a case where we want the derived class to be a kind of more than 1 base class.\n",
    "-  For e.g:  Base classes are:  Temperature, Clock,  Calendar\n",
    "   -  Derived class:  is a temperature, clock and a calendar\n",
    "-  Teacher is both an employee and a Person\n",
    "-  Bat being a mammal and has wings\n"
   ]
  },
  {
   "cell_type": "code",
   "execution_count": 19,
   "metadata": {},
   "outputs": [
    {
     "data": {
      "text/plain": [
       "70"
      ]
     },
     "execution_count": 19,
     "metadata": {},
     "output_type": "execute_result"
    }
   ],
   "source": [
    "class Weather:\n",
    "    def __init__(self, temp):\n",
    "        self.temp = temp\n",
    "    def getWeather(self):\n",
    "        return self.temp\n",
    "\n",
    "class Calendar:\n",
    "    def __init__(self, day, month,year):\n",
    "        self.day = day\n",
    "        self.month = month\n",
    "        self.year = year\n",
    "    def getCalendar( self):\n",
    "        return (self.day,\n",
    "        self.month,\n",
    "        self.year)   \n",
    "\n",
    "class Clock:\n",
    "    def __init__(self, hr, min):\n",
    "        self.hr = hr\n",
    "        self.min = min \n",
    "    def getClock (self, hr, min):\n",
    "        return (self.hr,\n",
    "        self.min)\n",
    "\n",
    "class SuperGadget(Weather, Calendar, Clock):\n",
    "    def __init__(self, temp, day, month, year, hr, min):\n",
    "        Weather.__init__(self, temp)\n",
    "        Calendar.__init__(self, day, month, year)\n",
    "        Clock.__init__(self, hr, min)\n",
    "\n",
    "superGadget= SuperGadget(70, 1,1,2020, 10, 10)\n",
    "\n",
    "superGadget.getWeather()\n"
   ]
  },
  {
   "cell_type": "markdown",
   "metadata": {},
   "source": [
    "## Quiz 3\n",
    "Why do we override in the child class?"
   ]
  },
  {
   "cell_type": "markdown",
   "metadata": {},
   "source": [
    "## Class Variables\n",
    "Variables defined in the class scope. They can be accessed as classname.attribute or classinstance.attribute.  Update class attribute using classname.attribute.  All instances read the same values."
   ]
  },
  {
   "cell_type": "code",
   "execution_count": 20,
   "metadata": {
    "collapsed": true
   },
   "outputs": [],
   "source": [
    "class ClsVariable:\n",
    "    ''' classvariable has class scope.  Can be accessed using class or instance'''\n",
    "    classVariable = 10"
   ]
  },
  {
   "cell_type": "markdown",
   "metadata": {},
   "source": [
    "### Accessing Class Variable using classname.attribute"
   ]
  },
  {
   "cell_type": "code",
   "execution_count": 21,
   "metadata": {},
   "outputs": [
    {
     "data": {
      "text/plain": [
       "10"
      ]
     },
     "execution_count": 21,
     "metadata": {},
     "output_type": "execute_result"
    }
   ],
   "source": [
    "ClsVariable.classVariable"
   ]
  },
  {
   "cell_type": "markdown",
   "metadata": {},
   "source": [
    "### Accessing Class Variable using instance.attribute"
   ]
  },
  {
   "cell_type": "code",
   "execution_count": 22,
   "metadata": {},
   "outputs": [
    {
     "data": {
      "text/plain": [
       "(10, 10)"
      ]
     },
     "execution_count": 22,
     "metadata": {},
     "output_type": "execute_result"
    }
   ],
   "source": [
    "aInstance = ClsVariable()\n",
    "bInstance = ClsVariable()\n",
    "aInstance.classVariable, bInstance.classVariable"
   ]
  },
  {
   "cell_type": "code",
   "execution_count": 23,
   "metadata": {},
   "outputs": [
    {
     "data": {
      "text/plain": [
       "(11, 11)"
      ]
     },
     "execution_count": 23,
     "metadata": {},
     "output_type": "execute_result"
    }
   ],
   "source": [
    "ClsVariable.classVariable=11\n",
    "aInstance.classVariable, bInstance.classVariable"
   ]
  },
  {
   "cell_type": "markdown",
   "metadata": {},
   "source": [
    "## Static Method\n",
    "-  Static methods are used as utility function and scoped wthin the class namespace\n",
    "-  Static methods dont take **self** as argument\n",
    "-  Can be assessed using classname or instancename\n",
    "-  Some say not much of use for static method"
   ]
  },
  {
   "cell_type": "code",
   "execution_count": 24,
   "metadata": {
    "collapsed": true
   },
   "outputs": [],
   "source": [
    "class StaticMethodCls:\n",
    "    myName = 'StaticMethodCls'\n",
    "    @staticmethod\n",
    "    def staticMethod():  #self is not passed as argument\n",
    "        print (\"In\", StaticMethodCls.myName)"
   ]
  },
  {
   "cell_type": "markdown",
   "metadata": {},
   "source": [
    "### Accessing static method using classname"
   ]
  },
  {
   "cell_type": "code",
   "execution_count": 25,
   "metadata": {},
   "outputs": [
    {
     "name": "stdout",
     "output_type": "stream",
     "text": [
      "In StaticMethodCls\n"
     ]
    }
   ],
   "source": [
    "StaticMethodCls.staticMethod()"
   ]
  },
  {
   "cell_type": "markdown",
   "metadata": {},
   "source": [
    "### Accessing static method using instance"
   ]
  },
  {
   "cell_type": "code",
   "execution_count": 26,
   "metadata": {},
   "outputs": [
    {
     "name": "stdout",
     "output_type": "stream",
     "text": [
      "In StaticMethodCls\n"
     ]
    }
   ],
   "source": [
    "staticMethodObj = StaticMethodCls()\n",
    "staticMethodObj.staticMethod()"
   ]
  },
  {
   "cell_type": "markdown",
   "metadata": {},
   "source": [
    "### Overriding staticmethod"
   ]
  },
  {
   "cell_type": "code",
   "execution_count": 27,
   "metadata": {
    "collapsed": true
   },
   "outputs": [],
   "source": [
    "class XCls(StaticMethodCls):\n",
    "    myName = 'XCls'\n",
    "    \n",
    "class YCls(StaticMethodCls):\n",
    "    myName = 'YCls'\n",
    "    @staticmethod\n",
    "    def staticMethod():\n",
    "        print (\"In\", YCls.myName)"
   ]
  },
  {
   "cell_type": "code",
   "execution_count": 28,
   "metadata": {},
   "outputs": [
    {
     "name": "stdout",
     "output_type": "stream",
     "text": [
      "In StaticMethodCls\n"
     ]
    }
   ],
   "source": [
    "XCls.staticMethod()"
   ]
  },
  {
   "cell_type": "code",
   "execution_count": 29,
   "metadata": {},
   "outputs": [
    {
     "name": "stdout",
     "output_type": "stream",
     "text": [
      "In YCls\n"
     ]
    }
   ],
   "source": [
    "YCls.staticMethod()"
   ]
  },
  {
   "cell_type": "markdown",
   "metadata": {},
   "source": [
    "## Class Method\n",
    "\n",
    "Claas methods are used to access class variables. Class variables are shared across all object instances of the class. \n",
    "-  For e.g. counting the number of object instances of a class\n",
    "\n",
    "Note that the classmethod takes **cls** as its first argument"
   ]
  },
  {
   "cell_type": "code",
   "execution_count": 30,
   "metadata": {
    "collapsed": true
   },
   "outputs": [],
   "source": [
    "class ClassMethodCls:\n",
    "    myName = 'ClassMethodCls'\n",
    "    @classmethod\n",
    "    def classMethod(cls):\n",
    "        print (\"In\", cls.myName)"
   ]
  },
  {
   "cell_type": "markdown",
   "metadata": {},
   "source": [
    "### Accessing clas method using classname"
   ]
  },
  {
   "cell_type": "code",
   "execution_count": 31,
   "metadata": {},
   "outputs": [
    {
     "name": "stdout",
     "output_type": "stream",
     "text": [
      "In ClassMethodCls\n"
     ]
    }
   ],
   "source": [
    "ClassMethodCls.classMethod()"
   ]
  },
  {
   "cell_type": "markdown",
   "metadata": {},
   "source": [
    "### Accessing static method using instance"
   ]
  },
  {
   "cell_type": "code",
   "execution_count": 32,
   "metadata": {},
   "outputs": [
    {
     "name": "stdout",
     "output_type": "stream",
     "text": [
      "In ClassMethodCls\n"
     ]
    }
   ],
   "source": [
    "classMethodObj = ClassMethodCls()\n",
    "classMethodObj.classMethod()"
   ]
  },
  {
   "cell_type": "markdown",
   "metadata": {},
   "source": [
    "### Overriding class method"
   ]
  },
  {
   "cell_type": "code",
   "execution_count": 33,
   "metadata": {
    "collapsed": true
   },
   "outputs": [],
   "source": [
    "class XCls(ClassMethodCls):\n",
    "    myName = 'XCls'\n",
    "    \n",
    "class YCls(ClassMethodCls):\n",
    "    myName = 'YCls'\n",
    "    @classmethod\n",
    "    def classMethod(cls):\n",
    "        print (\"In\", YCls.myName)"
   ]
  },
  {
   "cell_type": "code",
   "execution_count": 34,
   "metadata": {},
   "outputs": [
    {
     "name": "stdout",
     "output_type": "stream",
     "text": [
      "In XCls\n"
     ]
    }
   ],
   "source": [
    "XCls.classMethod()"
   ]
  },
  {
   "cell_type": "code",
   "execution_count": 35,
   "metadata": {},
   "outputs": [
    {
     "name": "stdout",
     "output_type": "stream",
     "text": [
      "In YCls\n"
     ]
    }
   ],
   "source": [
    "YCls.classMethod()"
   ]
  },
  {
   "cell_type": "markdown",
   "metadata": {},
   "source": [
    "## Private Variables\n",
    "It is a convention to use \\_variable.  Private visibility and access cannot be enforced."
   ]
  },
  {
   "cell_type": "markdown",
   "metadata": {},
   "source": [
    "## Destructors\n",
    "-  Used to release resources such as memory, sockets, file descriptors"
   ]
  },
  {
   "cell_type": "code",
   "execution_count": 36,
   "metadata": {},
   "outputs": [
    {
     "name": "stdout",
     "output_type": "stream",
     "text": [
      "Initializing ...\n"
     ]
    }
   ],
   "source": [
    "class DestructorCls (object):\n",
    "    def __init__(self):\n",
    "        print ('Initializing ...')\n",
    "    def __del__(self):\n",
    "        print ('Dying ...')\n",
    "\n",
    "destructorObj = DestructorCls()"
   ]
  },
  {
   "cell_type": "code",
   "execution_count": 37,
   "metadata": {},
   "outputs": [
    {
     "name": "stdout",
     "output_type": "stream",
     "text": [
      "Initializing ...\n",
      "Dying ...\n"
     ]
    }
   ],
   "source": [
    "def GarbageCollect():\n",
    "    destructorObj = DestructorCls()\n",
    "GarbageCollect()"
   ]
  },
  {
   "cell_type": "markdown",
   "metadata": {},
   "source": [
    "## References\n",
    "\n",
    "Popular Books on OOP\n",
    "-  Object-Oriented Software Construction by ** Bertrand Meyer  **\n",
    "- Design Patterns: Elements of Reusable Object-Oriented Software by ** Erich Gamma and Richard Helm ... **\n",
    "- AntiPatterns: Refactoring Software, Architectures, and Projects in Crisis by ** William J. Brown and Raphael C. Malveau  **\n",
    "-  Object-Oriented Design Heuristics by ** Arthur J. Riel  **\n",
    "- UML Distilled: A Brief Guide to the Standard Object Modeling Language by ** Martin Fowler  **"
   ]
  },
  {
   "cell_type": "markdown",
   "metadata": {},
   "source": [
    "# TODO\n",
    "- Proof read and fix errors\n",
    "- Refactor\n"
   ]
  },
  {
   "cell_type": "code",
   "execution_count": null,
   "metadata": {
    "collapsed": true
   },
   "outputs": [],
   "source": []
  }
 ],
 "metadata": {
  "kernelspec": {
   "display_name": "Python 3",
   "language": "python",
   "name": "python3"
  },
  "language_info": {
   "codemirror_mode": {
    "name": "ipython",
    "version": 3
   },
   "file_extension": ".py",
   "mimetype": "text/x-python",
   "name": "python",
   "nbconvert_exporter": "python",
   "pygments_lexer": "ipython3",
   "version": "3.5.2"
  }
 },
 "nbformat": 4,
 "nbformat_minor": 2
}
