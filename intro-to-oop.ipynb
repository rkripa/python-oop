{
 "cells": [
  {
   "cell_type": "markdown",
   "metadata": {
    "collapsed": true
   },
   "source": [
    "# Object Oriented Programming using Python 3.x"
   ]
  },
  {
   "cell_type": "markdown",
   "metadata": {},
   "source": [
    "## Introduction\n",
    "\n",
    "When you see the world around you, you see objects everywhere.  Lots of them.  If I ask you to provide me with more details about the object you see.  Anyone can easily lists their attributes and behavior of the object.  Lets give some concrete examples of real world objects:\n",
    "-  Cars, Trucks, Buses, Bikes, Aircrafts, Boats, Cycles, Trains\n",
    "-  People, Women, Men, Children, Students, Employees\n",
    "-  Phones, Computers\n",
    "-  Doors, Windows, Rooms, Buildings, Elevator, Escalator\n",
    "-  Fruits, Vegetables\n",
    "-  Words, Sentences, Paragraphs, Chapters, Books\n",
    "\n",
    "What are the attributes of an object?\n",
    "The things using which we describe them, their characteristics.\n",
    "For e.g. the color of the car, model, brand, year, type, engine, transimssion etc.\n",
    "\n",
    "What are an object's behavior?\n",
    "Things that we can do to them or how they behave.\n",
    "Like Start, Stop, Cruize a car.  Query car details.\n",
    "\n",
    "In computer programming we use ** data types ** which are containers to hold data of specific type.  The data types being for e.g. integer, floats or strings.  Integers and float are useful for computing mathematical operations.\n",
    "\n",
    "What if we want to emulate real world objects into software.  What data types would we use?  Thats where classes comes in handy to make programmers lives easy\n",
    "\n",
    "Lets step back to see how the world was before Object oriented programming (OOP)"
   ]
  },
  {
   "cell_type": "markdown",
   "metadata": {},
   "source": [
    "## Functions\n",
    "\n",
    "Programmers decomposed a problem top down  breaking them into functions.  Think of functions like math funtions y=f(x).   Function takes in 0 or more inputs,  performed some computation and returned 0 or more values.\n",
    "\n",
    "Though lots of systems software and applications are built using procedural programming language such as C, there were bunch of global data being shared among functions.  It was hard to track which function modified the data.  Every functions had equal access to the data, even though it was not necessary.  This led to hard to maintain software.  Lets see how OOP comes to our rescue."
   ]
  },
  {
   "cell_type": "markdown",
   "metadata": {},
   "source": [
    "## Classes\n",
    "\n",
    "Classes are the building blocks in OOP.  They are identified by looking at the problem from the bottom up view of the problem domain.\n",
    "\n",
    "At the most basic level\n",
    "```\n",
    "Data + Functions = Class\n",
    "```\n",
    "The idea is to keep the functions and the data it operates on close together.\n",
    "\n",
    "The data represents the attributes of objects. An object's state is the state of its data.\n",
    "\n",
    "The functions represents the object behavior.  Ideally the functions are the means through which the state of the object is read and modified.\n",
    "\n",
    "Classes are usually **nouns** you find in the problem domain.\n",
    "\n",
    "Functions are the **verbs** performed by the classes\n"
   ]
  },
  {
   "cell_type": "markdown",
   "metadata": {},
   "source": [
    "## Objects\n",
    "\n",
    "Classes are templates or model.  Think of classes as a cookie cutter. What is important are the cookies, which are the objects.  Objects are created from the class through a process called ** instantiation ** which is actually quite easy."
   ]
  },
  {
   "cell_type": "markdown",
   "metadata": {},
   "source": [
    "## Object Oriented Programming\n",
    "\n",
    "We reviewed functions, data, classes and objects.  OOP is all about identifying objects in your problem domain.  A problem statement is a good place to start.  More importantly discussing with the domain experts helps to understand and identify more objects.  Then we find the object's attributes (data),  relationships between objects, their behavior and their numbers and lifetimes.\n",
    "With this information, we are ready to generalize the objects into classes and define class level relationships and hierarchy\n",
    "\n",
    "### Two Key Relationships among Classes\n",
    "- Whole Part or contains\n",
    "  -  A home contains rooms, doors, windows\n",
    "- Is-A or Kind of\n",
    "  - Cars, Buses, Trucks, Bikes, Aircrats is a kind of a vehicle"
   ]
  },
  {
   "cell_type": "markdown",
   "metadata": {},
   "source": [
    "## Classes and Relationships\n",
    "-  Identifying the classes with the correct level of abstractions and selecting the right relationships is-a vs contains is very important.\n",
    "Making changes to the Base or Parent class mid stream in project is very challenging which surely lead to failing milestones\n",
    "-  Avoid having some classes being too big or too small"
   ]
  },
  {
   "cell_type": "markdown",
   "metadata": {},
   "source": [
    "##  Unified Modeling Language (UML)\n",
    "In the past engineers started developing very large scale Object oriented systems and found it to be hard to changes with minimal disruption.  Hence a group of industry OO practioners proposed a visual scheme and tool to model classes, objects, deployments and use-cases etc."
   ]
  },
  {
   "cell_type": "markdown",
   "metadata": {},
   "source": [
    "### Use Cases\n",
    "<img src=\"assets/use-cases.png\" width=\"500\" height=\"1000\"/>\n",
    "\n",
    "source: http://www.cs.ucf.edu/~turgut/COURSES/COP4331C_OOD_Fall12/UML-Examples.pdf"
   ]
  },
  {
   "cell_type": "markdown",
   "metadata": {},
   "source": [
    "### Class\n",
    "<img src=\"assets/class.png\" width=\"300\" height=\"600\" />\n",
    "\n",
    "source: http://ima.udg.edu/~sellares/EINF-ES2/uml2_diagrams.pdf"
   ]
  },
  {
   "cell_type": "markdown",
   "metadata": {},
   "source": [
    "### Aggregation and Composition\n",
    "<img src=\"assets/wholepart.png\" width=\"500\" height=\"200\" />\n",
    "\n",
    "source: http://ima.udg.edu/~sellares/EINF-ES2/uml2_diagrams.pdf"
   ]
  },
  {
   "cell_type": "markdown",
   "metadata": {},
   "source": [
    "## Activity to indentify Objects, Classes and their Relationships\n",
    "### Library\n",
    "### Classroom\n",
    "### Bank"
   ]
  },
  {
   "cell_type": "markdown",
   "metadata": {},
   "source": [
    "### Inheritance\n",
    "<img src=\"assets/inheritance.png\" width=\"500\" height=\"200\">\n",
    "\n",
    "source: http://ima.udg.edu/~sellares/EINF-ES2/uml2_diagrams.pdf"
   ]
  },
  {
   "cell_type": "markdown",
   "metadata": {},
   "source": [
    "## Simple Python Class"
   ]
  },
  {
   "cell_type": "code",
   "execution_count": 1,
   "metadata": {
    "collapsed": true
   },
   "outputs": [],
   "source": [
    "# class definition\n",
    "class DoNothingCls:\n",
    "    pass\n",
    "\n",
    "# Instiantiating an object doNothingObj of type DoNothingCls\n",
    "doNothingObj = DoNothingCls()"
   ]
  },
  {
   "cell_type": "markdown",
   "metadata": {},
   "source": [
    "### Lets check the type of doNothingObj and DoNothingCls"
   ]
  },
  {
   "cell_type": "code",
   "execution_count": 2,
   "metadata": {},
   "outputs": [
    {
     "data": {
      "text/plain": [
       "__main__.DoNothingCls"
      ]
     },
     "execution_count": 2,
     "metadata": {},
     "output_type": "execute_result"
    }
   ],
   "source": [
    "type(doNothingObj)    # it is a DoNothingCls"
   ]
  },
  {
   "cell_type": "code",
   "execution_count": 3,
   "metadata": {},
   "outputs": [
    {
     "data": {
      "text/plain": [
       "type"
      ]
     },
     "execution_count": 3,
     "metadata": {},
     "output_type": "execute_result"
    }
   ],
   "source": [
    "type(DoNothingCls)    # it is a type"
   ]
  },
  {
   "cell_type": "markdown",
   "metadata": {},
   "source": [
    "### Checking if doNothingObj is really an instance of DoNothingCls"
   ]
  },
  {
   "cell_type": "code",
   "execution_count": 4,
   "metadata": {},
   "outputs": [
    {
     "data": {
      "text/plain": [
       "True"
      ]
     },
     "execution_count": 4,
     "metadata": {},
     "output_type": "execute_result"
    }
   ],
   "source": [
    "isinstance(doNothingObj, DoNothingCls)"
   ]
  },
  {
   "cell_type": "code",
   "execution_count": 5,
   "metadata": {},
   "outputs": [
    {
     "data": {
      "text/plain": [
       "False"
      ]
     },
     "execution_count": 5,
     "metadata": {},
     "output_type": "execute_result"
    }
   ],
   "source": [
    "isinstance(doNothingObj, type)  # type belongs to a different classes"
   ]
  },
  {
   "cell_type": "markdown",
   "metadata": {},
   "source": [
    "### Documenting a Class"
   ]
  },
  {
   "cell_type": "code",
   "execution_count": 6,
   "metadata": {
    "collapsed": true
   },
   "outputs": [],
   "source": [
    "# class definition\n",
    "class DoNothingCls:\n",
    "    ''' This is a do nothing class which only has docstring '''"
   ]
  },
  {
   "cell_type": "code",
   "execution_count": 7,
   "metadata": {},
   "outputs": [
    {
     "data": {
      "text/plain": [
       "' This is a do nothing class which only has docstring '"
      ]
     },
     "execution_count": 7,
     "metadata": {},
     "output_type": "execute_result"
    }
   ],
   "source": [
    "DoNothingCls.__doc__"
   ]
  },
  {
   "cell_type": "markdown",
   "metadata": {},
   "source": [
    "### Objects are unique"
   ]
  },
  {
   "cell_type": "code",
   "execution_count": 8,
   "metadata": {},
   "outputs": [
    {
     "name": "stdout",
     "output_type": "stream",
     "text": [
      "Object Ids, d1: 140526498946968, d2: 140526498946912\n"
     ]
    }
   ],
   "source": [
    "d1Obj = DoNothingCls()\n",
    "d2Obj = DoNothingCls()\n",
    "print (\"Object Ids, d1: {}, d2: {}\".format(id(d1Obj), id(d2Obj)))"
   ]
  },
  {
   "cell_type": "markdown",
   "metadata": {},
   "source": [
    "## Classes have Attributes and Methods\n",
    "\n",
    "-  brand is an attribute\n",
    "-  Attributes are referred as  \"self\" dot \"name of attribute\"\n",
    "-  \\__init\\__(), getBrand(), getModel() are  methods\n",
    "-  Methods use ** self ** as their first parameter \n",
    "-  \\__init\\__() initializes the attributes.  \n",
    "   -  They are *not* constructors\n",
    "   -  Cant return any value\n",
    "   -  Quiz: Can it return None?\n",
    "``` python\n",
    "   class Foo:\n",
    "       def __init__(self):\n",
    "           return None\n",
    "           \n",
    "    Foo()\n",
    "```"
   ]
  },
  {
   "cell_type": "code",
   "execution_count": 9,
   "metadata": {
    "collapsed": true
   },
   "outputs": [],
   "source": [
    "class VehicleCls:\n",
    "    ''' Vehicle class has brand as attributes, getBrand as methods'''\n",
    "    def __init__(self, brand):\n",
    "        self.brand = brand\n",
    "    def getBrand(self):\n",
    "        return self.brand"
   ]
  },
  {
   "cell_type": "code",
   "execution_count": 10,
   "metadata": {},
   "outputs": [
    {
     "name": "stdout",
     "output_type": "stream",
     "text": [
      "Car brand:  Toyota Camry\n"
     ]
    }
   ],
   "source": [
    "toyotaCamry = VehicleCls('Toyota Camry')\n",
    "brand = toyotaCamry.getBrand()\n",
    "print(\"Car brand: \", brand)"
   ]
  },
  {
   "cell_type": "markdown",
   "metadata": {},
   "source": [
    "## Relationships between Classes\n",
    "### Whole Part\n",
    "-  Aggregation\n",
    "   -  Whole and Parts have independent lifetimes\n",
    "      - Company contains employees.  When \n",
    "-  Composition (shared lifetimes of whole and part)\n",
    "### Is A or Kind of\n",
    "-  Inheritance\n",
    "   - Parent, Child\n",
    "   - Base, Derived"
   ]
  },
  {
   "cell_type": "code",
   "execution_count": 11,
   "metadata": {},
   "outputs": [
    {
     "name": "stdout",
     "output_type": "stream",
     "text": [
      "Initializing Part Object\n",
      "Initializing Whole Object\n",
      "Whole Object  and I contain a  Part Object \n"
     ]
    }
   ],
   "source": [
    "# Aggregation Relation between WholeCls and PartCls\n",
    "\n",
    "class PartCls:\n",
    "    ''' Part Class '''\n",
    "    def __init__(self):\n",
    "        print (\"Initializing Part Object\")\n",
    "    def __repr__(self):\n",
    "        return \" Part Object \"\n",
    "\n",
    "class WholeCls:\n",
    "    '''Whole Class, it contains the Part Class Object as an attribute'''\n",
    "    def __init__(self, part):\n",
    "        self.part = part\n",
    "        print (\"Initializing Whole Object\")\n",
    "    def __repr__(self):\n",
    "        return \"Whole Object \" + \" and I contain a \" + self.part.__repr__()\n",
    "\n",
    "partObj = PartCls()\n",
    "wholeObj = WholeCls(partObj)\n",
    "print (wholeObj)"
   ]
  },
  {
   "cell_type": "markdown",
   "metadata": {},
   "source": [
    "#### What happens when the WholeObj is deleted?"
   ]
  },
  {
   "cell_type": "code",
   "execution_count": 12,
   "metadata": {},
   "outputs": [
    {
     "data": {
      "text/plain": [
       " Part Object "
      ]
     },
     "execution_count": 12,
     "metadata": {},
     "output_type": "execute_result"
    }
   ],
   "source": [
    "del wholeObj\n",
    "\n",
    "partObj    # partObj still exists even after wholeObj was deleted"
   ]
  },
  {
   "cell_type": "code",
   "execution_count": 13,
   "metadata": {},
   "outputs": [
    {
     "name": "stdout",
     "output_type": "stream",
     "text": [
      "Initializing Part Object\n",
      "Initializing Whole Object\n",
      "Whole Object  and I contain a  Part Object \n"
     ]
    }
   ],
   "source": [
    "# Composition Relation between WholeCls and PartCls\n",
    "\n",
    "class PartCls:\n",
    "    ''' Part Class '''\n",
    "    def __init__(self):\n",
    "        print (\"Initializing Part Object\")\n",
    "    def __repr__(self):\n",
    "        return \" Part Object \"\n",
    "    def __del__(self):\n",
    "        print ('Deleting Part Object')\n",
    "\n",
    "class WholeCls:\n",
    "    '''Whole Class, it contains the Part Class'''\n",
    "    def __init__(self):\n",
    "        self.part = PartCls()\n",
    "        print (\"Initializing Whole Object\")\n",
    "    def __repr__(self):\n",
    "        return \"Whole Object \" + \" and I contain a \" + self.part.__repr__()\n",
    "\n",
    "wholeObj = WholeCls()\n",
    "print (wholeObj)"
   ]
  },
  {
   "cell_type": "markdown",
   "metadata": {},
   "source": [
    "#### What happens when the WholeObj is deleted?"
   ]
  },
  {
   "cell_type": "code",
   "execution_count": 14,
   "metadata": {},
   "outputs": [
    {
     "name": "stdout",
     "output_type": "stream",
     "text": [
      "Deleting Part Object\n"
     ]
    }
   ],
   "source": [
    "del wholeObj"
   ]
  },
  {
   "cell_type": "code",
   "execution_count": 15,
   "metadata": {},
   "outputs": [
    {
     "name": "stdout",
     "output_type": "stream",
     "text": [
      "Initializing Parent Object\n",
      "Initializing Whole Object\n",
      "Child Object and it inherits a Parent Object \n"
     ]
    }
   ],
   "source": [
    "# Inheritance Relation between ParentCls and ChildCls\n",
    "\n",
    "class ParentCls:\n",
    "    ''' Parent Class '''\n",
    "    def __init__(self):\n",
    "        print (\"Initializing Parent Object\")\n",
    "    def __repr__(self):\n",
    "        return \" Parent Object \"\n",
    "\n",
    "class ChildCls (ParentCls):\n",
    "    '''ChildCls Class, it inherits from the Parent Class'''\n",
    "    def __init__(self):\n",
    "        #super().__init__()\n",
    "        ParentCls.__init__(self)\n",
    "        print (\"Initializing Whole Object\")\n",
    "    def __repr__(self):\n",
    "        return \"Child Object \" + \"and it inherits a\" + super().__repr__()\n",
    "\n",
    "childObj = ChildCls()\n",
    "print (childObj)\n"
   ]
  },
  {
   "cell_type": "markdown",
   "metadata": {},
   "source": [
    "## Overriding methods in Parent Class"
   ]
  },
  {
   "cell_type": "code",
   "execution_count": 16,
   "metadata": {},
   "outputs": [
    {
     "name": "stdout",
     "output_type": "stream",
     "text": [
      "WhoAmIOne: I am Parent Object\n",
      "WhoAmITwo: I am Child Object\n"
     ]
    }
   ],
   "source": [
    "# Overriding Print method in ChildCls\n",
    "\n",
    "class ParentCls:\n",
    "    ''' Parent Class '''\n",
    "    def WhoAmIOne(self):\n",
    "        print (\"WhoAmIOne: I am Parent Object\")\n",
    "    def WhoAmITwo(self):\n",
    "        print (\"WhoAmITwo: I am Parent Object\")\n",
    "\n",
    "class ChildCls (ParentCls):\n",
    "    '''ChildCls Class, it inherits from the Parent Class'''\n",
    "\n",
    "    def WhoAmITwo(self):\n",
    "       print (\"WhoAmITwo: I am Child Object\")\n",
    "\n",
    "childObj = ChildCls()\n",
    "childObj.WhoAmIOne()\n",
    "childObj.WhoAmITwo()\n"
   ]
  },
  {
   "cell_type": "markdown",
   "metadata": {},
   "source": [
    "## Class Variables\n",
    "Variables defined in the class scope. They can be accessed as classname.attribte or classinstance.attribute.  Update class attribute using classname.attribute.  All instances read the same values."
   ]
  },
  {
   "cell_type": "code",
   "execution_count": 17,
   "metadata": {
    "collapsed": true
   },
   "outputs": [],
   "source": [
    "class ClsVariable:\n",
    "    ''' classvariable has class scope.  can be accessed using class or instance'''\n",
    "    classVariable = 10"
   ]
  },
  {
   "cell_type": "code",
   "execution_count": 18,
   "metadata": {},
   "outputs": [
    {
     "data": {
      "text/plain": [
       "10"
      ]
     },
     "execution_count": 18,
     "metadata": {},
     "output_type": "execute_result"
    }
   ],
   "source": [
    "ClsVariable.classVariable"
   ]
  },
  {
   "cell_type": "code",
   "execution_count": 19,
   "metadata": {},
   "outputs": [
    {
     "data": {
      "text/plain": [
       "(10, 10)"
      ]
     },
     "execution_count": 19,
     "metadata": {},
     "output_type": "execute_result"
    }
   ],
   "source": [
    "aInstance = ClsVariable()\n",
    "bInstance = ClsVariable()\n",
    "aInstance.classVariable, bInstance.classVariable"
   ]
  },
  {
   "cell_type": "code",
   "execution_count": 20,
   "metadata": {},
   "outputs": [
    {
     "data": {
      "text/plain": [
       "(11, 11)"
      ]
     },
     "execution_count": 20,
     "metadata": {},
     "output_type": "execute_result"
    }
   ],
   "source": [
    "ClsVariable.classVariable=11\n",
    "aInstance.classVariable, bInstance.classVariable"
   ]
  },
  {
   "cell_type": "markdown",
   "metadata": {},
   "source": [
    "## Static Method"
   ]
  },
  {
   "cell_type": "code",
   "execution_count": 21,
   "metadata": {
    "collapsed": true
   },
   "outputs": [],
   "source": [
    "class StaticMethodCls:\n",
    "    myName = 'StaticMethodCls'\n",
    "    @staticmethod\n",
    "    def staticMethod():\n",
    "        print (\"In\", StaticMethodCls.myName)"
   ]
  },
  {
   "cell_type": "code",
   "execution_count": 22,
   "metadata": {},
   "outputs": [
    {
     "name": "stdout",
     "output_type": "stream",
     "text": [
      "In StaticMethodCls\n"
     ]
    }
   ],
   "source": [
    "StaticMethodCls.staticMethod()"
   ]
  },
  {
   "cell_type": "code",
   "execution_count": 23,
   "metadata": {},
   "outputs": [
    {
     "name": "stdout",
     "output_type": "stream",
     "text": [
      "In StaticMethodCls\n"
     ]
    }
   ],
   "source": [
    "staticMethodObj = StaticMethodCls()\n",
    "staticMethodObj.staticMethod()"
   ]
  },
  {
   "cell_type": "code",
   "execution_count": 24,
   "metadata": {
    "collapsed": true
   },
   "outputs": [],
   "source": [
    "class XCls(StaticMethodCls):\n",
    "    myName = 'XCls'\n",
    "    \n",
    "class YCls(StaticMethodCls):\n",
    "    myName = 'YCls'\n",
    "    @staticmethod\n",
    "    def staticMethod():\n",
    "        print (\"In\", YCls.myName)"
   ]
  },
  {
   "cell_type": "code",
   "execution_count": 25,
   "metadata": {},
   "outputs": [
    {
     "name": "stdout",
     "output_type": "stream",
     "text": [
      "In StaticMethodCls\n"
     ]
    }
   ],
   "source": [
    "XCls.staticMethod()"
   ]
  },
  {
   "cell_type": "code",
   "execution_count": 26,
   "metadata": {},
   "outputs": [
    {
     "name": "stdout",
     "output_type": "stream",
     "text": [
      "In YCls\n"
     ]
    }
   ],
   "source": [
    "YCls.staticMethod()"
   ]
  },
  {
   "cell_type": "markdown",
   "metadata": {},
   "source": [
    "## Class Method"
   ]
  },
  {
   "cell_type": "code",
   "execution_count": 27,
   "metadata": {
    "collapsed": true
   },
   "outputs": [],
   "source": [
    "class ClassMethodCls:\n",
    "    myName = 'ClassMethodCls'\n",
    "    @classmethod\n",
    "    def classMethod(cls):\n",
    "        print (\"In\", ClassMethodCls.myName)"
   ]
  },
  {
   "cell_type": "code",
   "execution_count": 28,
   "metadata": {},
   "outputs": [
    {
     "name": "stdout",
     "output_type": "stream",
     "text": [
      "In ClassMethodCls\n"
     ]
    }
   ],
   "source": [
    "ClassMethodCls.classMethod()"
   ]
  },
  {
   "cell_type": "code",
   "execution_count": 29,
   "metadata": {},
   "outputs": [
    {
     "name": "stdout",
     "output_type": "stream",
     "text": [
      "In ClassMethodCls\n"
     ]
    }
   ],
   "source": [
    "classMethodObj = ClassMethodCls()\n",
    "classMethodObj.classMethod()"
   ]
  },
  {
   "cell_type": "code",
   "execution_count": 30,
   "metadata": {
    "collapsed": true
   },
   "outputs": [],
   "source": [
    "class XCls(ClassMethodCls):\n",
    "    myName = 'XCls'\n",
    "    \n",
    "class YCls(ClassMethodCls):\n",
    "    myName = 'YCls'\n",
    "    @classmethod\n",
    "    def classMethod(cls):\n",
    "        print (\"In\", YCls.myName)"
   ]
  },
  {
   "cell_type": "code",
   "execution_count": 31,
   "metadata": {},
   "outputs": [
    {
     "name": "stdout",
     "output_type": "stream",
     "text": [
      "In ClassMethodCls\n"
     ]
    }
   ],
   "source": [
    "XCls.classMethod()"
   ]
  },
  {
   "cell_type": "code",
   "execution_count": 32,
   "metadata": {},
   "outputs": [
    {
     "name": "stdout",
     "output_type": "stream",
     "text": [
      "In YCls\n"
     ]
    }
   ],
   "source": [
    "YCls.classMethod()"
   ]
  },
  {
   "cell_type": "markdown",
   "metadata": {},
   "source": [
    "## Private Variables\n",
    "It is a convention to use \\_varaible.  Private visibility and access cannot be enforced."
   ]
  },
  {
   "cell_type": "markdown",
   "metadata": {},
   "source": [
    "### Destructors\n",
    "-  Used to release resources such as memory, sockets, file descriptors"
   ]
  },
  {
   "cell_type": "code",
   "execution_count": 33,
   "metadata": {},
   "outputs": [
    {
     "name": "stdout",
     "output_type": "stream",
     "text": [
      "Initializing ...\n"
     ]
    }
   ],
   "source": [
    "class DestructorCls (object):\n",
    "    def __init__(self):\n",
    "        print ('Initializing ...')\n",
    "    def __del__(self):\n",
    "        print ('Dying ...')\n",
    "\n",
    "destructorObj = DestructorCls()"
   ]
  },
  {
   "cell_type": "code",
   "execution_count": 34,
   "metadata": {},
   "outputs": [
    {
     "name": "stdout",
     "output_type": "stream",
     "text": [
      "Initializing ...\n",
      "Dying ...\n"
     ]
    }
   ],
   "source": [
    "def GarbageCollect():\n",
    "    destructorObj = DestructorCls()\n",
    "GarbageCollect()"
   ]
  },
  {
   "cell_type": "markdown",
   "metadata": {},
   "source": [
    "## References\n",
    "\n",
    "Popular Books on OOP\n",
    "-  Object-Oriented Software Construction by ** Bertrand Meyer  **\n",
    "- Design Patterns: Elements of Reusable Object-Oriented Software by ** Erich Gamma and Richard Helm ... **\n",
    "- AntiPatterns: Refactoring Software, Architectures, and Projects in Crisis by ** William J. Brown and Raphael C. Malveau  **\n",
    "-  Object-Oriented Design Heuristics by ** Arthur J. Riel  **\n",
    "- UML Distilled: A Brief Guide to the Standard Object Modeling Language by ** Martin Fowler  **"
   ]
  },
  {
   "cell_type": "markdown",
   "metadata": {},
   "source": [
    "# TODO\n",
    "- comments\n",
    "- review and proof read\n"
   ]
  }
 ],
 "metadata": {
  "kernelspec": {
   "display_name": "Python 3",
   "language": "python",
   "name": "python3"
  },
  "language_info": {
   "codemirror_mode": {
    "name": "ipython",
    "version": 3
   },
   "file_extension": ".py",
   "mimetype": "text/x-python",
   "name": "python",
   "nbconvert_exporter": "python",
   "pygments_lexer": "ipython3",
   "version": "3.5.2"
  }
 },
 "nbformat": 4,
 "nbformat_minor": 2
}
